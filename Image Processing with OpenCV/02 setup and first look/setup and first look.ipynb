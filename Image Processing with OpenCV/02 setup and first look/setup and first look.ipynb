{
 "cells": [
  {
   "cell_type": "markdown",
   "metadata": {
    "deletable": true,
    "editable": true
   },
   "source": [
    "# ওপেনসিভি + পাইথনে ইমেজ প্রসেসিং\n",
    "## সেটআপ এবং হাবিজাবি "
   ]
  },
  {
   "cell_type": "markdown",
   "metadata": {
    "deletable": true,
    "editable": true
   },
   "source": [
    "## মেলা কাজ । চলুন শুরু করি । "
   ]
  },
  {
   "cell_type": "markdown",
   "metadata": {
    "deletable": true,
    "editable": true
   },
   "source": [
    "# Anconda ইন্সটল করা \n",
    "\n",
    "\n",
    "#### Windows\n",
    "- আপনার অপারেটিং সিস্টেম অনুযায়ী (মানে ৩২/ ৬৪ বিট অনুযায়ী) যে অ্যানাকন্ডা ইন্সটলার নামিয়েছেন সেটা ওপেন করে ইন্সটল করুন। বাকীটা সে নিজেই করে নিবে । \n",
    "\n",
    "#### macOS \n",
    "- macOS এ দুইভাবে ইন্সটল করা যায় । আপনি গ্রাফিকাল ইন্সটলার দিয়ে করতে পারেন । কিংবা কমান্ড লাইনে .sh এক্সটেনশনের ফাইলটা রান করে করতে পারেন। আমি রিকোমেন্ড করবো আপনি গ্রাফিকাল ইন্সটলারটা থেকে সেটআপ দিন। পেইনলেস। \n",
    "\n",
    "#### Linux Distro \n",
    "- .sh বাদে আপনার গতি নাই । আপনার প্রথম কাজ স্ক্রিপ্ট তাকে এক্সিকিউটেবল করা। Terminal / Konsole এ লিখে ফেলেন তাহলে - \n",
    "\n",
    "    - __#৩২ বিটের জন্য__\n",
    "         - `sudo chmod +x Anaconda2-4.2.0-Linux-x86.sh` \n",
    "    \n",
    "    - __#৬৪ বিটের জন্য__\n",
    "        - `sudo chmod +x Anaconda2-4.2.0-Linux-x86_64.sh` \n",
    "\n",
    "- এবার রান করাতে হবে। \n",
    "\n",
    "`sudo ./Anaconda2-4.2.0-Linux-x86.sh` অথবা `sudo Anaconda2-4.2.0-Linux-x86_64.sh`"
   ]
  },
  {
   "cell_type": "markdown",
   "metadata": {
    "deletable": true,
    "editable": true
   },
   "source": [
    "## IDE / Editor ইন্সটল করা \n",
    "\n",
    "ওয়েল এইটা আপনার ইচ্ছা এবং পছন্দের IDE এর উপর নির্ভর করে। আমি সেদিকে নাই বা গেলাম! "
   ]
  },
  {
   "cell_type": "markdown",
   "metadata": {
    "deletable": true,
    "editable": true
   },
   "source": [
    "## ইন্সটল হয়েছে কিনা চেক করা \n",
    "\n",
    "কমান্ড লাইন ওপেন করুন। `python` লিখে এন্টার করে পাইথন REPL রান করান। ইন্সটল ঠিক মতন হয়ে থাকলে এমন দেখাবে (আমি macOS এ দেখাচ্ছি, বাকি অপারেটিং সিস্টেমেও এমনই দেখাবে \n"
   ]
  },
  {
   "cell_type": "markdown",
   "metadata": {
    "deletable": true,
    "editable": true
   },
   "source": [
    "![macOS anaconda](http://imgur.com/H1B9jT3.png \"macOS anaconda\")\n",
    "\n",
    "__আমার সিস্টেম পাথ আলাদা করা । আপনাদের শুধু পাইথন লিখলেই চলবে ।__ "
   ]
  },
  {
   "cell_type": "markdown",
   "metadata": {
    "deletable": true,
    "editable": true
   },
   "source": [
    "## রান তো হয় না! (ঝামেলা!) 😰\n",
    "\n",
    "ঝামেলা হয় আসলে উইন্ডোজে যে অনেক সময় python এর path সিস্টেম এনভায়রোমেন্টে যায় না । সেটা ফিক্স করার জন্য যেখানে অ্যানাকন্ডা ইন্সটল করেছেন সে ডিরেক্টরি তে যান। Anaconda ফোল্ডারের ভেতরে bin নামে যে ফোল্ডার আছে তার Path কপি করে সিস্টেম ভেরিয়েবলে অ্যাড করে দিন । কাজটা ঝামেলার মনে হলে এইটা দেখুন [Adding to windows path](http://windowsitpro.com/systems-management/how-can-i-add-new-folder-my-system-path) "
   ]
  },
  {
   "cell_type": "markdown",
   "metadata": {
    "deletable": true,
    "editable": true
   },
   "source": [
    "##  আসল কাজ । OpenCV ইন্সটল করা । "
   ]
  },
  {
   "cell_type": "markdown",
   "metadata": {
    "deletable": true,
    "editable": true
   },
   "source": [
    "- কমান্ড লাইন ওপেন করুন। এরপর কমান্ড লিখুন । \n",
    "\n",
    "`conda install -c menpo opencv3=3.1.0`\n",
    "\n",
    "- অপেক্ষা করুন । ডাউনলোড হয়ে এরপর ইন্সটল হবে । "
   ]
  },
  {
   "cell_type": "markdown",
   "metadata": {
    "deletable": true,
    "editable": true
   },
   "source": [
    "## কাজ করে কিনা আবার চেক করা । \n",
    "\n",
    "- কমান্ড লাইন থেকে পাইথন REPL রান করান , মানে `python` লিখলেই হবে । \n",
    "- এবার নিচের মতন কোড লিখে দেখুন ঠিক ঠাক আউটপুট আসে কিনা। "
   ]
  },
  {
   "cell_type": "code",
   "execution_count": 2,
   "metadata": {
    "collapsed": false,
    "deletable": true,
    "editable": true
   },
   "outputs": [
    {
     "name": "stdout",
     "output_type": "stream",
     "text": [
      "Installed Version of OpenCV =  3.1.0\n"
     ]
    }
   ],
   "source": [
    "import cv2\n",
    "\n",
    "print(\"Installed Version of OpenCV = \", cv2.__version__)"
   ]
  },
  {
   "cell_type": "markdown",
   "metadata": {
    "deletable": true,
    "editable": true
   },
   "source": [
    "## ইন্সটলেশনের হ্যাপা শেষ! এবার আমরা কাজে লেগে পড়বো। পরের অধ্যায়ে বিস্তারিত। "
   ]
  },
  {
   "cell_type": "code",
   "execution_count": 4,
   "metadata": {
    "collapsed": false,
    "deletable": true,
    "editable": true
   },
   "outputs": [
    {
     "name": "stdout",
     "output_type": "stream",
     "text": [
      "আসল কাহিনী শুরু এর পরেই 😉\n"
     ]
    }
   ],
   "source": [
    "print(\"আসল কাহিনী শুরু এর পরেই 😉\")"
   ]
  }
 ],
 "metadata": {
  "anaconda-cloud": {},
  "kernelspec": {
   "display_name": "Python 3",
   "language": "python",
   "name": "python3"
  },
  "language_info": {
   "codemirror_mode": {
    "name": "ipython",
    "version": 3
   },
   "file_extension": ".py",
   "mimetype": "text/x-python",
   "name": "python",
   "nbconvert_exporter": "python",
   "pygments_lexer": "ipython3",
   "version": "3.5.3"
  }
 },
 "nbformat": 4,
 "nbformat_minor": 1
}
